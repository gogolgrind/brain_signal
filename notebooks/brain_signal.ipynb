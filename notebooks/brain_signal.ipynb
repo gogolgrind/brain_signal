{
 "cells": [
  {
   "cell_type": "code",
   "execution_count": 1,
   "metadata": {
    "collapsed": false
   },
   "outputs": [],
   "source": [
    "import scipy as sp\n",
    "import numpy as np\n",
    "import seaborn as sns\n",
    "import mne\n",
    "import os\n",
    "import pandas as pd\n",
    "%matplotlib inline\n",
    "from scipy import signal\n",
    "from scipy.signal import butter,lfilter,filtfilt"
   ]
  },
  {
   "cell_type": "code",
   "execution_count": 2,
   "metadata": {
    "collapsed": true
   },
   "outputs": [],
   "source": [
    "def draw_plot(signal,title,xtext,ytext):\n",
    "    sns.plt.title(title)\n",
    "    sns.plt.plot(signal['time'].values,signal['EMGZ'])\n",
    "    sns.plt.xlabel(xtext)\n",
    "    sns.plt.ylabel(ytext)"
   ]
  },
  {
   "cell_type": "code",
   "execution_count": 3,
   "metadata": {
    "collapsed": true
   },
   "outputs": [],
   "source": [
    "def detrend_signal(signal_data_):\n",
    "    d_signal = signal_data_.copy()\n",
    "    d_signal['EMGZ'] = signal.detrend(signal_data_['EMGZ'].values)\n",
    "    return d_signal"
   ]
  },
  {
   "cell_type": "code",
   "execution_count": 4,
   "metadata": {
    "collapsed": true
   },
   "outputs": [],
   "source": [
    "def rec_signal(signal_data_):\n",
    "    rec_signal = signal_data_.copy()\n",
    "    rec_signal['EMGZ'] = signal_data_['EMGZ'].apply(lambda x: abs(x))\n",
    "    return rec_signal"
   ]
  },
  {
   "cell_type": "code",
   "execution_count": 5,
   "metadata": {
    "collapsed": true
   },
   "outputs": [],
   "source": [
    "def apply_bandpass_filter(signal_data_,freq = 10000,lfreq = 10,hfreq = 400, order=2):\n",
    "    flt_signal = signal_data_.copy()\n",
    "    signal_value = signal_data_['EMGZ'].values\n",
    "    nyq = 0.5 * freq\n",
    "    b, a = butter(order, [lfreq/nyq,hfreq/nyq], btype = 'bandpass')\n",
    "    flt_value = filtfilt(b, a, signal_value)\n",
    "    flt_signal['EMGZ'] = flt_value \n",
    "    return flt_signal"
   ]
  },
  {
   "cell_type": "code",
   "execution_count": 6,
   "metadata": {
    "collapsed": true
   },
   "outputs": [],
   "source": [
    "def apply_low_filter(signal_data_,cutoff = 8, order=2,btype =  'low'):\n",
    "    flt_signal = signal_data_.copy()\n",
    "    time = signal_data_['time'].values\n",
    "    freq = 1/(np.mean(np.diff(time))*0.001)\n",
    "    print(freq)\n",
    "    signal_value = signal_data_['EMGZ'].values\n",
    "    nyq = 0.5 * freq\n",
    "    normal_cutoff = cutoff / nyq\n",
    "    b, a = butter(order, normal_cutoff, btype = btype)\n",
    "    flt_value = filtfilt(b, a, signal_value)\n",
    "    flt_signal['EMGZ'] = flt_value \n",
    "    return flt_signal"
   ]
  },
  {
   "cell_type": "code",
   "execution_count": 7,
   "metadata": {
    "collapsed": true
   },
   "outputs": [],
   "source": [
    "root_dir = 'data'"
   ]
  },
  {
   "cell_type": "code",
   "execution_count": 8,
   "metadata": {
    "collapsed": false
   },
   "outputs": [],
   "source": [
    "edf_path = os.path.join(root_dir,'NeoRec_2016-08-15_15-47-26.edf')"
   ]
  },
  {
   "cell_type": "code",
   "execution_count": 9,
   "metadata": {
    "collapsed": false
   },
   "outputs": [
    {
     "data": {
      "text/plain": [
       "'data\\\\NeoRec_2016-08-15_15-47-26.edf'"
      ]
     },
     "execution_count": 9,
     "metadata": {},
     "output_type": "execute_result"
    }
   ],
   "source": [
    "edf_path"
   ]
  },
  {
   "cell_type": "code",
   "execution_count": 10,
   "metadata": {
    "collapsed": false
   },
   "outputs": [
    {
     "name": "stdout",
     "output_type": "stream",
     "text": [
      "Extracting edf Parameters from data\\NeoRec_2016-08-15_15-47-26.edf...\n",
      "Setting channel info structure...\n",
      "Creating Raw.info structure...\n",
      "Reading 0 ... 482499  =      0.000 ...   964.998 secs...\n",
      "Ready.\n"
     ]
    }
   ],
   "source": [
    "edf_signal = mne.io.read_raw_edf(edf_path,preload=True)"
   ]
  },
  {
   "cell_type": "code",
   "execution_count": 11,
   "metadata": {
    "collapsed": false
   },
   "outputs": [
    {
     "name": "stdout",
     "output_type": "stream",
     "text": [
      "Converting time column to int64...\n"
     ]
    }
   ],
   "source": [
    "edf_data_frame = edf_signal.to_data_frame()"
   ]
  },
  {
   "cell_type": "code",
   "execution_count": 12,
   "metadata": {
    "collapsed": false
   },
   "outputs": [
    {
     "data": {
      "text/html": [
       "<div>\n",
       "<table border=\"1\" class=\"dataframe\">\n",
       "  <thead>\n",
       "    <tr style=\"text-align: right;\">\n",
       "      <th>signal</th>\n",
       "      <th>GSR</th>\n",
       "      <th>PPG</th>\n",
       "      <th>EMGZ</th>\n",
       "      <th>EMGC</th>\n",
       "      <th>Fp1</th>\n",
       "      <th>Fp2</th>\n",
       "      <th>Fz</th>\n",
       "      <th>F3</th>\n",
       "      <th>F4</th>\n",
       "      <th>A1</th>\n",
       "      <th>A2</th>\n",
       "      <th>STI 014</th>\n",
       "    </tr>\n",
       "    <tr>\n",
       "      <th>time</th>\n",
       "      <th></th>\n",
       "      <th></th>\n",
       "      <th></th>\n",
       "      <th></th>\n",
       "      <th></th>\n",
       "      <th></th>\n",
       "      <th></th>\n",
       "      <th></th>\n",
       "      <th></th>\n",
       "      <th></th>\n",
       "      <th></th>\n",
       "      <th></th>\n",
       "    </tr>\n",
       "  </thead>\n",
       "  <tbody>\n",
       "    <tr>\n",
       "      <th>0</th>\n",
       "      <td>2.648966</td>\n",
       "      <td>2.648966</td>\n",
       "      <td>3.511437</td>\n",
       "      <td>3.511437</td>\n",
       "      <td>0.004414</td>\n",
       "      <td>0.004414</td>\n",
       "      <td>0.004414</td>\n",
       "      <td>0.004414</td>\n",
       "      <td>0.004414</td>\n",
       "      <td>0.004414</td>\n",
       "      <td>0.004414</td>\n",
       "      <td>0.0</td>\n",
       "    </tr>\n",
       "    <tr>\n",
       "      <th>2</th>\n",
       "      <td>2.648966</td>\n",
       "      <td>2.648966</td>\n",
       "      <td>3.511437</td>\n",
       "      <td>3.511437</td>\n",
       "      <td>0.004414</td>\n",
       "      <td>0.004414</td>\n",
       "      <td>0.004414</td>\n",
       "      <td>0.004414</td>\n",
       "      <td>0.004414</td>\n",
       "      <td>0.004414</td>\n",
       "      <td>0.004414</td>\n",
       "      <td>0.0</td>\n",
       "    </tr>\n",
       "    <tr>\n",
       "      <th>4</th>\n",
       "      <td>2.648966</td>\n",
       "      <td>2.648966</td>\n",
       "      <td>3.511437</td>\n",
       "      <td>3.511437</td>\n",
       "      <td>0.004414</td>\n",
       "      <td>0.004414</td>\n",
       "      <td>0.004414</td>\n",
       "      <td>0.004414</td>\n",
       "      <td>0.004414</td>\n",
       "      <td>0.004414</td>\n",
       "      <td>0.004414</td>\n",
       "      <td>0.0</td>\n",
       "    </tr>\n",
       "    <tr>\n",
       "      <th>6</th>\n",
       "      <td>2.648966</td>\n",
       "      <td>2.648966</td>\n",
       "      <td>3.511437</td>\n",
       "      <td>3.511437</td>\n",
       "      <td>0.004414</td>\n",
       "      <td>0.004414</td>\n",
       "      <td>0.004414</td>\n",
       "      <td>0.004414</td>\n",
       "      <td>0.004414</td>\n",
       "      <td>0.004414</td>\n",
       "      <td>0.004414</td>\n",
       "      <td>0.0</td>\n",
       "    </tr>\n",
       "    <tr>\n",
       "      <th>8</th>\n",
       "      <td>2.648966</td>\n",
       "      <td>2.648966</td>\n",
       "      <td>3.511437</td>\n",
       "      <td>3.511437</td>\n",
       "      <td>0.004414</td>\n",
       "      <td>0.004414</td>\n",
       "      <td>0.004414</td>\n",
       "      <td>0.004414</td>\n",
       "      <td>0.004414</td>\n",
       "      <td>0.004414</td>\n",
       "      <td>0.004414</td>\n",
       "      <td>0.0</td>\n",
       "    </tr>\n",
       "  </tbody>\n",
       "</table>\n",
       "</div>"
      ],
      "text/plain": [
       "signal       GSR       PPG      EMGZ      EMGC       Fp1       Fp2        Fz  \\\n",
       "time                                                                           \n",
       "0       2.648966  2.648966  3.511437  3.511437  0.004414  0.004414  0.004414   \n",
       "2       2.648966  2.648966  3.511437  3.511437  0.004414  0.004414  0.004414   \n",
       "4       2.648966  2.648966  3.511437  3.511437  0.004414  0.004414  0.004414   \n",
       "6       2.648966  2.648966  3.511437  3.511437  0.004414  0.004414  0.004414   \n",
       "8       2.648966  2.648966  3.511437  3.511437  0.004414  0.004414  0.004414   \n",
       "\n",
       "signal        F3        F4        A1        A2  STI 014  \n",
       "time                                                     \n",
       "0       0.004414  0.004414  0.004414  0.004414      0.0  \n",
       "2       0.004414  0.004414  0.004414  0.004414      0.0  \n",
       "4       0.004414  0.004414  0.004414  0.004414      0.0  \n",
       "6       0.004414  0.004414  0.004414  0.004414      0.0  \n",
       "8       0.004414  0.004414  0.004414  0.004414      0.0  "
      ]
     },
     "execution_count": 12,
     "metadata": {},
     "output_type": "execute_result"
    }
   ],
   "source": [
    "edf_data_frame.head()"
   ]
  },
  {
   "cell_type": "code",
   "execution_count": 13,
   "metadata": {
    "collapsed": false
   },
   "outputs": [],
   "source": [
    "edf_data_frame['time'] = edf_data_frame.index.values\n",
    "emg_signal = edf_data_frame[['time','EMGZ']]\n",
    "edf_data_frame.drop('time',axis=1,inplace=True)"
   ]
  },
  {
   "cell_type": "code",
   "execution_count": 14,
   "metadata": {
    "collapsed": false
   },
   "outputs": [],
   "source": [
    "## Очиститка сигнала от постоянного амплитудного смещения\n",
    "emg_detrend_signal = detrend_signal(emg_signal)"
   ]
  },
  {
   "cell_type": "code",
   "execution_count": 15,
   "metadata": {
    "collapsed": false
   },
   "outputs": [
    {
     "data": {
      "image/png": "[encoded data removed]",
      "text/plain": [
       "<matplotlib.figure.Figure at 0xb498940>"
      ]
     },
     "metadata": {},
     "output_type": "display_data"
    }
   ],
   "source": [
    "draw_plot(emg_detrend_signal,'detrended signal','time','signal value')"
   ]
  },
  {
   "cell_type": "code",
   "execution_count": 16,
   "metadata": {
    "collapsed": false
   },
   "outputs": [],
   "source": [
    "emg_flt_signal = apply_bandpass_filter(emg_detrend_signal)"
   ]
  },
  {
   "cell_type": "code",
   "execution_count": 17,
   "metadata": {
    "collapsed": false
   },
   "outputs": [],
   "source": [
    "# ректефикация  сигнала\n",
    "emg_flt_signal = rec_signal(emg_flt_signal)"
   ]
  },
  {
   "cell_type": "code",
   "execution_count": 18,
   "metadata": {
    "collapsed": false
   },
   "outputs": [
    {
     "data": {
      "image/png": "[encoded data removed]",
      "text/plain": [
       "<matplotlib.figure.Figure at 0xb55ba20>"
      ]
     },
     "metadata": {},
     "output_type": "display_data"
    }
   ],
   "source": [
    "# draw only fist N observations  \n",
    "draw_plot(emg_flt_signal.head(n=500),' 1 flt signal','time','signal value')"
   ]
  },
  {
   "cell_type": "code",
   "execution_count": 19,
   "metadata": {
    "collapsed": false
   },
   "outputs": [
    {
     "name": "stdout",
     "output_type": "stream",
     "text": [
      "500.0\n"
     ]
    }
   ],
   "source": [
    "emg_flt_signal = apply_low_filter(emg_flt_signal)"
   ]
  },
  {
   "cell_type": "code",
   "execution_count": 20,
   "metadata": {
    "collapsed": false
   },
   "outputs": [
    {
     "data": {
      "image/png": "[encoded data removed]",
      "text/plain": [
       "<matplotlib.figure.Figure at 0xb5ea588>"
      ]
     },
     "metadata": {},
     "output_type": "display_data"
    }
   ],
   "source": [
    "# draw only fist N observations  \n",
    "draw_plot(emg_flt_signal.head(n=500),' 1 flt signal','time','signal value')"
   ]
  },
  {
   "cell_type": "code",
   "execution_count": null,
   "metadata": {
    "collapsed": true
   },
   "outputs": [],
   "source": []
  }
 ],
 "metadata": {
  "kernelspec": {
   "display_name": "Python 3",
   "language": "python",
   "name": "python3"
  },
  "language_info": {
   "codemirror_mode": {
    "name": "ipython",
    "version": 3
   },
   "file_extension": ".py",
   "mimetype": "text/x-python",
   "name": "python",
   "nbconvert_exporter": "python",
   "pygments_lexer": "ipython3",
   "version": "3.4.4"
  }
 },
 "nbformat": 4,
 "nbformat_minor": 0
}
