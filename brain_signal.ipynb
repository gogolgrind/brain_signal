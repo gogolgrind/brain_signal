{
 "cells": [
  {
   "cell_type": "code",
   "execution_count": 1,
   "metadata": {
    "collapsed": true
   },
   "outputs": [],
   "source": [
    "import scipy as sp\n",
    "import numpy as np\n",
    "import seaborn as sns\n",
    "import mne\n",
    "import os\n",
    "%matplotlib inline"
   ]
  },
  {
   "cell_type": "code",
   "execution_count": 2,
   "metadata": {
    "collapsed": true
   },
   "outputs": [],
   "source": [
    "root_dir = 'data'"
   ]
  },
  {
   "cell_type": "code",
   "execution_count": 3,
   "metadata": {
    "collapsed": false
   },
   "outputs": [],
   "source": [
    "edf_path = os.path.join(root_dir,'NeoRec_2016-08-15_15-47-26.edf')"
   ]
  },
  {
   "cell_type": "code",
   "execution_count": 4,
   "metadata": {
    "collapsed": false
   },
   "outputs": [
    {
     "data": {
      "text/plain": [
       "'data\\\\NeoRec_2016-08-15_15-47-26.edf'"
      ]
     },
     "execution_count": 4,
     "metadata": {},
     "output_type": "execute_result"
    }
   ],
   "source": [
    "edf_path"
   ]
  },
  {
   "cell_type": "code",
   "execution_count": 5,
   "metadata": {
    "collapsed": false
   },
   "outputs": [
    {
     "name": "stdout",
     "output_type": "stream",
     "text": [
      "Extracting edf Parameters from data\\NeoRec_2016-08-15_15-47-26.edf...\n",
      "Setting channel info structure...\n",
      "Creating Raw.info structure...\n",
      "Reading 0 ... 482499  =      0.000 ...   964.998 secs...\n",
      "Ready.\n"
     ]
    }
   ],
   "source": [
    "edf_signal = mne.io.read_raw_edf(edf_path,preload=True)"
   ]
  },
  {
   "cell_type": "code",
   "execution_count": 6,
   "metadata": {
    "collapsed": false
   },
   "outputs": [
    {
     "name": "stdout",
     "output_type": "stream",
     "text": [
      "Converting time column to int64...\n"
     ]
    }
   ],
   "source": [
    "edf_data_frame = edf_signal.to_data_frame()"
   ]
  },
  {
   "cell_type": "code",
   "execution_count": 7,
   "metadata": {
    "collapsed": false
   },
   "outputs": [
    {
     "data": {
      "text/html": [
       "<div>\n",
       "<table border=\"1\" class=\"dataframe\">\n",
       "  <thead>\n",
       "    <tr style=\"text-align: right;\">\n",
       "      <th>signal</th>\n",
       "      <th>GSR</th>\n",
       "      <th>PPG</th>\n",
       "      <th>EMGZ</th>\n",
       "      <th>EMGC</th>\n",
       "      <th>Fp1</th>\n",
       "      <th>Fp2</th>\n",
       "      <th>Fz</th>\n",
       "      <th>F3</th>\n",
       "      <th>F4</th>\n",
       "      <th>A1</th>\n",
       "      <th>A2</th>\n",
       "      <th>STI 014</th>\n",
       "    </tr>\n",
       "    <tr>\n",
       "      <th>time</th>\n",
       "      <th></th>\n",
       "      <th></th>\n",
       "      <th></th>\n",
       "      <th></th>\n",
       "      <th></th>\n",
       "      <th></th>\n",
       "      <th></th>\n",
       "      <th></th>\n",
       "      <th></th>\n",
       "      <th></th>\n",
       "      <th></th>\n",
       "      <th></th>\n",
       "    </tr>\n",
       "  </thead>\n",
       "  <tbody>\n",
       "    <tr>\n",
       "      <th>0</th>\n",
       "      <td>2.648966</td>\n",
       "      <td>2.648966</td>\n",
       "      <td>3.511437</td>\n",
       "      <td>3.511437</td>\n",
       "      <td>0.004414</td>\n",
       "      <td>0.004414</td>\n",
       "      <td>0.004414</td>\n",
       "      <td>0.004414</td>\n",
       "      <td>0.004414</td>\n",
       "      <td>0.004414</td>\n",
       "      <td>0.004414</td>\n",
       "      <td>0.0</td>\n",
       "    </tr>\n",
       "    <tr>\n",
       "      <th>2</th>\n",
       "      <td>2.648966</td>\n",
       "      <td>2.648966</td>\n",
       "      <td>3.511437</td>\n",
       "      <td>3.511437</td>\n",
       "      <td>0.004414</td>\n",
       "      <td>0.004414</td>\n",
       "      <td>0.004414</td>\n",
       "      <td>0.004414</td>\n",
       "      <td>0.004414</td>\n",
       "      <td>0.004414</td>\n",
       "      <td>0.004414</td>\n",
       "      <td>0.0</td>\n",
       "    </tr>\n",
       "    <tr>\n",
       "      <th>4</th>\n",
       "      <td>2.648966</td>\n",
       "      <td>2.648966</td>\n",
       "      <td>3.511437</td>\n",
       "      <td>3.511437</td>\n",
       "      <td>0.004414</td>\n",
       "      <td>0.004414</td>\n",
       "      <td>0.004414</td>\n",
       "      <td>0.004414</td>\n",
       "      <td>0.004414</td>\n",
       "      <td>0.004414</td>\n",
       "      <td>0.004414</td>\n",
       "      <td>0.0</td>\n",
       "    </tr>\n",
       "    <tr>\n",
       "      <th>6</th>\n",
       "      <td>2.648966</td>\n",
       "      <td>2.648966</td>\n",
       "      <td>3.511437</td>\n",
       "      <td>3.511437</td>\n",
       "      <td>0.004414</td>\n",
       "      <td>0.004414</td>\n",
       "      <td>0.004414</td>\n",
       "      <td>0.004414</td>\n",
       "      <td>0.004414</td>\n",
       "      <td>0.004414</td>\n",
       "      <td>0.004414</td>\n",
       "      <td>0.0</td>\n",
       "    </tr>\n",
       "    <tr>\n",
       "      <th>8</th>\n",
       "      <td>2.648966</td>\n",
       "      <td>2.648966</td>\n",
       "      <td>3.511437</td>\n",
       "      <td>3.511437</td>\n",
       "      <td>0.004414</td>\n",
       "      <td>0.004414</td>\n",
       "      <td>0.004414</td>\n",
       "      <td>0.004414</td>\n",
       "      <td>0.004414</td>\n",
       "      <td>0.004414</td>\n",
       "      <td>0.004414</td>\n",
       "      <td>0.0</td>\n",
       "    </tr>\n",
       "  </tbody>\n",
       "</table>\n",
       "</div>"
      ],
      "text/plain": [
       "signal       GSR       PPG      EMGZ      EMGC       Fp1       Fp2        Fz  \\\n",
       "time                                                                           \n",
       "0       2.648966  2.648966  3.511437  3.511437  0.004414  0.004414  0.004414   \n",
       "2       2.648966  2.648966  3.511437  3.511437  0.004414  0.004414  0.004414   \n",
       "4       2.648966  2.648966  3.511437  3.511437  0.004414  0.004414  0.004414   \n",
       "6       2.648966  2.648966  3.511437  3.511437  0.004414  0.004414  0.004414   \n",
       "8       2.648966  2.648966  3.511437  3.511437  0.004414  0.004414  0.004414   \n",
       "\n",
       "signal        F3        F4        A1        A2  STI 014  \n",
       "time                                                     \n",
       "0       0.004414  0.004414  0.004414  0.004414      0.0  \n",
       "2       0.004414  0.004414  0.004414  0.004414      0.0  \n",
       "4       0.004414  0.004414  0.004414  0.004414      0.0  \n",
       "6       0.004414  0.004414  0.004414  0.004414      0.0  \n",
       "8       0.004414  0.004414  0.004414  0.004414      0.0  "
      ]
     },
     "execution_count": 7,
     "metadata": {},
     "output_type": "execute_result"
    }
   ],
   "source": [
    "edf_data_frame.head()"
   ]
  },
  {
   "cell_type": "code",
   "execution_count": 8,
   "metadata": {
    "collapsed": true
   },
   "outputs": [],
   "source": [
    "emgz_signal = edf_data_frame['EMGZ']"
   ]
  },
  {
   "cell_type": "code",
   "execution_count": 9,
   "metadata": {
    "collapsed": false
   },
   "outputs": [
    {
     "data": {
      "text/plain": [
       "[<matplotlib.lines.Line2D at 0xb59af28>]"
      ]
     },
     "execution_count": 9,
     "metadata": {},
     "output_type": "execute_result"
    },
    {
     "data": {
      "image/png": "[encoded data removed]",
      "text/plain": [
       "<matplotlib.figure.Figure at 0xb3df518>"
      ]
     },
     "metadata": {},
     "output_type": "display_data"
    }
   ],
   "source": [
    "sns.plt.plot(emgz_signal)"
   ]
  }
 ],
 "metadata": {
  "kernelspec": {
   "display_name": "Python 3",
   "language": "python",
   "name": "python3"
  },
  "language_info": {
   "codemirror_mode": {
    "name": "ipython",
    "version": 3
   },
   "file_extension": ".py",
   "mimetype": "text/x-python",
   "name": "python",
   "nbconvert_exporter": "python",
   "pygments_lexer": "ipython3",
   "version": "3.4.4"
  }
 },
 "nbformat": 4,
 "nbformat_minor": 0
}
